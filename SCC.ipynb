{
 "cells": [
  {
   "cell_type": "code",
   "execution_count": 1,
   "metadata": {},
   "outputs": [],
   "source": [
    "class Vertex:\n",
    "     def __init__(self, name=''):\n",
    "        self.name = name\n",
    "        self.f = float(\"inf\")\n",
    "        self.d=0\n",
    "        self.color=\"white\"\n",
    "        self.adj=[]\n",
    "        self.next=None"
   ]
  },
  {
   "cell_type": "code",
   "execution_count": 2,
   "metadata": {},
   "outputs": [],
   "source": [
    "import random\n",
    "N=random.randint(6,10)\n",
    "vertices=[\"V\"+str(i) for i in range(N)]\n",
    "edges=[]\n",
    "for i in vertices:\n",
    "    for j in vertices:\n",
    "        if random.randint(0,1) and i!=j:\n",
    "            edges.append((i,j))\n",
    "edges=list(set(edges))\n",
    "edges=[[i,j] for i,j in edges]"
   ]
  },
  {
   "cell_type": "code",
   "execution_count": 3,
   "metadata": {},
   "outputs": [
    {
     "data": {
      "text/plain": [
       "[['V3', 'V4'],\n",
       " ['V4', 'V6'],\n",
       " ['V1', 'V2'],\n",
       " ['V6', 'V0'],\n",
       " ['V1', 'V0'],\n",
       " ['V0', 'V4'],\n",
       " ['V0', 'V2'],\n",
       " ['V5', 'V4'],\n",
       " ['V4', 'V5'],\n",
       " ['V5', 'V2'],\n",
       " ['V6', 'V1'],\n",
       " ['V3', 'V0'],\n",
       " ['V2', 'V1'],\n",
       " ['V0', 'V1'],\n",
       " ['V6', 'V5'],\n",
       " ['V2', 'V0'],\n",
       " ['V6', 'V4'],\n",
       " ['V4', 'V2'],\n",
       " ['V0', 'V5'],\n",
       " ['V3', 'V5'],\n",
       " ['V5', 'V1'],\n",
       " ['V3', 'V6'],\n",
       " ['V6', 'V2'],\n",
       " ['V5', 'V0']]"
      ]
     },
     "execution_count": 3,
     "metadata": {},
     "output_type": "execute_result"
    }
   ],
   "source": [
    "edges"
   ]
  },
  {
   "cell_type": "code",
   "execution_count": 4,
   "metadata": {},
   "outputs": [
    {
     "data": {
      "text/plain": [
       "['V0', 'V1', 'V2', 'V3', 'V4', 'V5', 'V6']"
      ]
     },
     "execution_count": 4,
     "metadata": {},
     "output_type": "execute_result"
    }
   ],
   "source": [
    "vertices"
   ]
  },
  {
   "cell_type": "code",
   "execution_count": 5,
   "metadata": {},
   "outputs": [],
   "source": [
    "V=[Vertex(i) for i in vertices]\n",
    "for v in V:\n",
    "    v.adj=[]\n",
    "    for u in V:\n",
    "        for e in edges:\n",
    "            if v.name==e[0] and u.name==e[1]:\n",
    "                v.adj.append(u)"
   ]
  },
  {
   "cell_type": "code",
   "execution_count": 6,
   "metadata": {},
   "outputs": [],
   "source": [
    "def dfsvisit(V,u):\n",
    "    global time\n",
    "    global orderedV\n",
    "    time=time+1\n",
    "    u.d=time\n",
    "    u.color=\"gray\"\n",
    "    #print(u.name,u.color,u.d,u.f)\n",
    "    for v in u.adj:\n",
    "        #print(v.name,v.color,v.d,v.f)\n",
    "        if v.color==\"white\":\n",
    "            v.next=u\n",
    "            dfsvisit(V,v)\n",
    "    u.color=\"black\"\n",
    "    time=time+1\n",
    "    u.f=time\n",
    "    orderedV.insert(0,u)\n",
    "    #print(u.name,u.color,u.d,u.f)"
   ]
  },
  {
   "cell_type": "code",
   "execution_count": 7,
   "metadata": {},
   "outputs": [],
   "source": [
    "def dfs(V):\n",
    "    for v in V:\n",
    "        v.color=\"white\"\n",
    "        v.next=None\n",
    "    global time\n",
    "    global orderedV\n",
    "    time=0\n",
    "    orderedV=[]\n",
    "    for u in V:\n",
    "        #print(u.name,u.color,u.d,u.f)\n",
    "        if u.color==\"white\":\n",
    "            dfsvisit(V,u)\n",
    "    return orderedV    "
   ]
  },
  {
   "cell_type": "code",
   "execution_count": 8,
   "metadata": {},
   "outputs": [],
   "source": [
    "orderedV = dfs(V)"
   ]
  },
  {
   "cell_type": "code",
   "execution_count": 9,
   "metadata": {},
   "outputs": [
    {
     "name": "stdout",
     "output_type": "stream",
     "text": [
      "V3 13 14\n",
      "V0 1 12\n",
      "V4 6 11\n",
      "V6 9 10\n",
      "V5 7 8\n",
      "V1 2 5\n",
      "V2 3 4\n"
     ]
    }
   ],
   "source": [
    "for v in orderedV:\n",
    "    print(v.name,v.d,v.f)"
   ]
  },
  {
   "cell_type": "code",
   "execution_count": 10,
   "metadata": {},
   "outputs": [],
   "source": [
    "for v in orderedV:\n",
    "    v.adj=[]\n",
    "    for u in orderedV:\n",
    "        for e in edges:\n",
    "            if v.name==e[1] and u.name==e[0]:\n",
    "                v.adj.append(u)"
   ]
  },
  {
   "cell_type": "code",
   "execution_count": 11,
   "metadata": {},
   "outputs": [
    {
     "name": "stdout",
     "output_type": "stream",
     "text": [
      "[]\n",
      "['V3', 'V6', 'V5', 'V1', 'V2']\n",
      "['V3', 'V0', 'V6', 'V5']\n",
      "['V3', 'V4']\n",
      "['V3', 'V0', 'V4', 'V6']\n",
      "['V0', 'V6', 'V5', 'V2']\n",
      "['V0', 'V4', 'V6', 'V5', 'V1']\n"
     ]
    }
   ],
   "source": [
    "for i in orderedV:\n",
    "    print([j.name for j in i.adj])"
   ]
  },
  {
   "cell_type": "code",
   "execution_count": 12,
   "metadata": {},
   "outputs": [],
   "source": [
    "final = dfs(orderedV)"
   ]
  },
  {
   "cell_type": "code",
   "execution_count": 13,
   "metadata": {},
   "outputs": [
    {
     "data": {
      "text/plain": [
       "[('V0', 3, 14),\n",
       " ('V1', 10, 13),\n",
       " ('V2', 11, 12),\n",
       " ('V6', 4, 9),\n",
       " ('V4', 5, 8),\n",
       " ('V5', 6, 7),\n",
       " ('V3', 1, 2)]"
      ]
     },
     "execution_count": 13,
     "metadata": {},
     "output_type": "execute_result"
    }
   ],
   "source": [
    "[(i.name,i.d,i.f) for i in final]"
   ]
  },
  {
   "cell_type": "code",
   "execution_count": 14,
   "metadata": {},
   "outputs": [],
   "source": [
    "newV=[]\n",
    "temp=[]\n",
    "init=final[0].d\n",
    "for i in final:\n",
    "    if i.d<init:\n",
    "        init=i.d\n",
    "        newV.append(temp)\n",
    "        temp=[i.name]\n",
    "    else:\n",
    "        temp.append(i.name)\n",
    "newV.append(temp)"
   ]
  },
  {
   "cell_type": "code",
   "execution_count": 15,
   "metadata": {},
   "outputs": [],
   "source": [
    "for e in edges:\n",
    "    for i in newV:\n",
    "        if e[0] in i:\n",
    "            e[0]=i[0]\n",
    "        if e[1] in i:\n",
    "            e[1]=i[0]\n",
    "newE=[i for i in edges if i[0]!=i[1]]"
   ]
  },
  {
   "cell_type": "code",
   "execution_count": 16,
   "metadata": {},
   "outputs": [
    {
     "data": {
      "text/plain": [
       "[['V3', 'V0'], ['V3', 'V0'], ['V3', 'V0'], ['V3', 'V0']]"
      ]
     },
     "execution_count": 16,
     "metadata": {},
     "output_type": "execute_result"
    }
   ],
   "source": [
    "newE"
   ]
  },
  {
   "cell_type": "code",
   "execution_count": 17,
   "metadata": {},
   "outputs": [
    {
     "data": {
      "text/plain": [
       "['V0', 'V3']"
      ]
     },
     "execution_count": 17,
     "metadata": {},
     "output_type": "execute_result"
    }
   ],
   "source": [
    "newV=[i[0] for i in newV]\n",
    "newV"
   ]
  },
  {
   "cell_type": "code",
   "execution_count": 18,
   "metadata": {},
   "outputs": [
    {
     "data": {
      "text/plain": [
       "['V3']"
      ]
     },
     "execution_count": 18,
     "metadata": {},
     "output_type": "execute_result"
    }
   ],
   "source": [
    "zeroind=[i for i in newV if i not in [j[1] for j in newE]]\n",
    "zeroind"
   ]
  },
  {
   "cell_type": "code",
   "execution_count": 19,
   "metadata": {},
   "outputs": [
    {
     "data": {
      "text/plain": [
       "['V0']"
      ]
     },
     "execution_count": 19,
     "metadata": {},
     "output_type": "execute_result"
    }
   ],
   "source": [
    "zerooutd=[i for i in newV if i not in [j[0] for j in newE]]\n",
    "zerooutd"
   ]
  },
  {
   "cell_type": "markdown",
   "metadata": {},
   "source": [
    "If we can add edges between the vertices in zeroind (V0-->V1-->V2), then we can find one vertex (V0), from where we can reach any other vertices in the graph."
   ]
  },
  {
   "cell_type": "code",
   "execution_count": null,
   "metadata": {},
   "outputs": [],
   "source": []
  }
 ],
 "metadata": {
  "kernelspec": {
   "display_name": "Python 3",
   "language": "python",
   "name": "python3"
  },
  "language_info": {
   "codemirror_mode": {
    "name": "ipython",
    "version": 3
   },
   "file_extension": ".py",
   "mimetype": "text/x-python",
   "name": "python",
   "nbconvert_exporter": "python",
   "pygments_lexer": "ipython3",
   "version": "3.7.6"
  }
 },
 "nbformat": 4,
 "nbformat_minor": 4
}
